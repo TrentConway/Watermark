{
 "cells": [
  {
   "cell_type": "code",
   "execution_count": 10,
   "metadata": {},
   "outputs": [],
   "source": [
    "from PIL import Image\n",
    "from PIL import ImageChops\n",
    "from IPython.display import display"
   ]
  },
  {
   "cell_type": "code",
   "execution_count": 11,
   "metadata": {
    "scrolled": true
   },
   "outputs": [
    {
     "ename": "ValueError",
     "evalue": "images do not match",
     "output_type": "error",
     "traceback": [
      "\u001b[0;31m---------------------------------------------------------------------------\u001b[0m",
      "\u001b[0;31mValueError\u001b[0m                                Traceback (most recent call last)",
      "\u001b[0;32m<ipython-input-11-813c318a21ee>\u001b[0m in \u001b[0;36m<module>\u001b[0;34m\u001b[0m\n\u001b[1;32m     19\u001b[0m \u001b[0;34m\u001b[0m\u001b[0m\n\u001b[1;32m     20\u001b[0m \u001b[0;31m#paste_mask = logo.split()[3].point(lambda i: i * TRANSPARENCY / 100.)\u001b[0m\u001b[0;34m\u001b[0m\u001b[0;34m\u001b[0m\u001b[0;34m\u001b[0m\u001b[0m\n\u001b[0;32m---> 21\u001b[0;31m \u001b[0mi\u001b[0m \u001b[0;34m=\u001b[0m \u001b[0mImageChops\u001b[0m\u001b[0;34m.\u001b[0m\u001b[0mdifference\u001b[0m\u001b[0;34m(\u001b[0m\u001b[0mimage\u001b[0m\u001b[0;34m,\u001b[0m \u001b[0mlogo\u001b[0m\u001b[0;34m)\u001b[0m\u001b[0;34m\u001b[0m\u001b[0;34m\u001b[0m\u001b[0m\n\u001b[0m\u001b[1;32m     22\u001b[0m \u001b[0mi\u001b[0m\u001b[0;34m.\u001b[0m\u001b[0msave\u001b[0m\u001b[0;34m(\u001b[0m\u001b[0mSAVEPATH\u001b[0m\u001b[0;34m)\u001b[0m\u001b[0;34m\u001b[0m\u001b[0;34m\u001b[0m\u001b[0m\n\u001b[1;32m     23\u001b[0m \u001b[0mdisplay\u001b[0m\u001b[0;34m(\u001b[0m\u001b[0mi\u001b[0m\u001b[0;34m)\u001b[0m\u001b[0;34m\u001b[0m\u001b[0;34m\u001b[0m\u001b[0m\n",
      "\u001b[0;32m/usr/local/lib/python3.7/site-packages/PIL/ImageChops.py\u001b[0m in \u001b[0;36mdifference\u001b[0;34m(image1, image2)\u001b[0m\n\u001b[1;32m    100\u001b[0m     \u001b[0mimage1\u001b[0m\u001b[0;34m.\u001b[0m\u001b[0mload\u001b[0m\u001b[0;34m(\u001b[0m\u001b[0;34m)\u001b[0m\u001b[0;34m\u001b[0m\u001b[0;34m\u001b[0m\u001b[0m\n\u001b[1;32m    101\u001b[0m     \u001b[0mimage2\u001b[0m\u001b[0;34m.\u001b[0m\u001b[0mload\u001b[0m\u001b[0;34m(\u001b[0m\u001b[0;34m)\u001b[0m\u001b[0;34m\u001b[0m\u001b[0;34m\u001b[0m\u001b[0m\n\u001b[0;32m--> 102\u001b[0;31m     \u001b[0;32mreturn\u001b[0m \u001b[0mimage1\u001b[0m\u001b[0;34m.\u001b[0m\u001b[0m_new\u001b[0m\u001b[0;34m(\u001b[0m\u001b[0mimage1\u001b[0m\u001b[0;34m.\u001b[0m\u001b[0mim\u001b[0m\u001b[0;34m.\u001b[0m\u001b[0mchop_difference\u001b[0m\u001b[0;34m(\u001b[0m\u001b[0mimage2\u001b[0m\u001b[0;34m.\u001b[0m\u001b[0mim\u001b[0m\u001b[0;34m)\u001b[0m\u001b[0;34m)\u001b[0m\u001b[0;34m\u001b[0m\u001b[0;34m\u001b[0m\u001b[0m\n\u001b[0m\u001b[1;32m    103\u001b[0m \u001b[0;34m\u001b[0m\u001b[0m\n\u001b[1;32m    104\u001b[0m \u001b[0;34m\u001b[0m\u001b[0m\n",
      "\u001b[0;31mValueError\u001b[0m: images do not match"
     ]
    }
   ],
   "source": [
    "# Add logo to image\n",
    "\n",
    "LOGOPATH = 'star-wars.png'\n",
    "IMAGEPATH = 'yoda.jpeg'\n",
    "SAVEPATH = 'starwars.png'\n",
    "\n",
    "logo = Image.open(LOGOPATH)\n",
    "logoWidth = logo.width\n",
    "logoHeight = logo.height\n",
    "\n",
    "image = Image.open(IMAGEPATH)\n",
    "imageWidth = image.width\n",
    "imageHeight = image.height\n",
    "\n",
    "TRANSPARENCY = 65       # percentage\n",
    "\n",
    "alpha = Image.new(\"L\", logo.size, 500)\n",
    "logo.putalpha(alpha)\n",
    "\n",
    "#paste_mask = logo.split()[3].point(lambda i: i * TRANSPARENCY / 100.)\n",
    "i = ImageChops.difference(image, logo)\n",
    "i.save(SAVEPATH)\n",
    "display(i)"
   ]
  },
  {
   "cell_type": "markdown",
   "metadata": {},
   "source": [
    "## BRIEF:\n",
    "The objective of the first activity is to interact with images and understand how they work, regardless of your prior programing experience.  \n",
    "If you are new to python, don't worry, this is a great project to understand variables, loops and python basics too.\n",
    "\n",
    "The activity is to write an application to place a logo onto an image. As you progress the application can be used to watermark a series of images. \n",
    "\n",
    "Before I write software, I decompose the application into a series of steps, that are simple and managable. The steps combined will then build the application. The steps I used are below and I also added hints to help you out along the way. \n",
    "\n",
    "At the end of the activity (end date), I will go live and program this application start to finish answering any questions along the way. I encourage you to have a go prior to the stream!\n",
    "\n",
    "Have fun!"
   ]
  },
  {
   "cell_type": "markdown",
   "metadata": {},
   "source": [
    "## STEPS:\n",
    "1. User can put a logo in the center of the image  \n",
    "__HINT:__ center of the image (imageLength - logoLength)/2\n",
    "2. User can specify a path to the image and logo  \n",
    "__HINT:__ at min PATH is a variable \n",
    "3. User can specify a list of images to logo  \n",
    "__HINT:__ For Loop\n",
    "4. User can specify a folder of images to logo  \n",
    "__HINT:__ https://www.tutorialspoint.com/python/os_listdir.htm\n",
    "5. User can specify the transparency of the logo  \n",
    "__HINT:__ transparency is the alpha channel in an RGB image\n",
    "6. The logo will scale to fit the image  \n",
    "__HINT:__ resize & need some maths\n",
    "7. User can specify if the logo is diagonal or horizontal  \n",
    "__HINT:__ at min rotate 45 \n",
    "8. Have fun and continue to add to this application"
   ]
  },
  {
   "cell_type": "markdown",
   "metadata": {},
   "source": [
    "# HELP\n",
    "Library that I used to complete this task is PIL:  \n",
    "`python3 -m pip install Pillow`  \n",
    "The `image` module in the Pillow library is extremely helpful to complete the task:  \n",
    "https://pillow.readthedocs.io/en/stable/reference/Image.html  \n",
    "This module contains functions:\n",
    "* Open\n",
    "* Paste\n",
    "* Save  \n",
    "\n",
    "These functions are a good starting place to begin the challenge.  \n",
    "The PIL library contains a vast range of image manipulation functions that will be needed as you progress!\n",
    "\n",
    "\n",
    "The python OS and SYS librarys may also come in handy - if you want to extend the program into a command line application.\n",
    "https://www.pythonforbeginners.com/system/python-sys-argv\n",
    "\n",
    "\n",
    "If you are using jupyter notebooks, the library  \n",
    "`from IPython.display import display` and `display(image)` to show image in notebook"
   ]
  },
  {
   "cell_type": "code",
   "execution_count": 12,
   "metadata": {},
   "outputs": [
    {
     "data": {
      "text/plain": [
       "str"
      ]
     },
     "execution_count": 12,
     "metadata": {},
     "output_type": "execute_result"
    }
   ],
   "source": [
    "type(\"Test\")"
   ]
  },
  {
   "cell_type": "code",
   "execution_count": null,
   "metadata": {},
   "outputs": [],
   "source": []
  }
 ],
 "metadata": {
  "kernelspec": {
   "display_name": "Python 3",
   "language": "python",
   "name": "python3"
  },
  "language_info": {
   "codemirror_mode": {
    "name": "ipython",
    "version": 3
   },
   "file_extension": ".py",
   "mimetype": "text/x-python",
   "name": "python",
   "nbconvert_exporter": "python",
   "pygments_lexer": "ipython3",
   "version": "3.7.7"
  }
 },
 "nbformat": 4,
 "nbformat_minor": 4
}
